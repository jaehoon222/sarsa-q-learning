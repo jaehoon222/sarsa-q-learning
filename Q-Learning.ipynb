{
 "cells": [
  {
   "cell_type": "code",
   "execution_count": 1,
   "id": "150881b2",
   "metadata": {
    "scrolled": true
   },
   "outputs": [
    {
     "name": "stderr",
     "output_type": "stream",
     "text": [
      "\n"
     ]
    }
   ],
   "source": [
    "import numpy as np\n",
    "import os\n",
    "import pandas as pd\n",
    "import random\n",
    "from collections import defaultdict\n",
    "import gym\n",
    "import gym_minigrid\n",
    "import matplotlib.pyplot as plt\n",
    "%matplotlib inline"
   ]
  },
  {
   "cell_type": "code",
   "execution_count": 2,
   "id": "bb3475c0",
   "metadata": {
    "scrolled": true
   },
   "outputs": [],
   "source": [
    "class QLearning:\n",
    "    def __init__(self, actions, agent_indicator=10):\n",
    "        self.actions = actions\n",
    "        self.agent_indicator = agent_indicator\n",
    "        self.alpha = 0.01\n",
    "        self.gamma = 0.9\n",
    "        self.epsilon = 0.2\n",
    "        self.q_values = defaultdict(lambda: [0.0] * actions)\n",
    "        \n",
    "    def _convert_state(self, s):\n",
    "        return np.where(s == self.agent_indicator)[0][0]\n",
    "        \n",
    "    def update(self, state, action, reward, next_state, next_action):\n",
    "        state = self._convert_state(state)\n",
    "        next_state = self._convert_state(next_state)\n",
    "        \n",
    "        q_value = self.q_values[state][action]\n",
    "        ################## updated code ################################\n",
    "        next_q_value = max(self.q_values[next_state])\n",
    "        \n",
    "        td_error = reward + self.gamma * next_q_value - q_value\n",
    "        self.q_values[state][action] = q_value + self.alpha * td_error\n",
    "        ##############################################################\n",
    "    \n",
    "    def act(self, state):\n",
    "        if np.random.rand() < self.epsilon:\n",
    "            action = np.random.choice(self.actions)\n",
    "        else:\n",
    "            state = self._convert_state(state)\n",
    "            q_values = self.q_values[state]\n",
    "            action = np.argmax(q_values)\n",
    "        return action"
   ]
  },
  {
   "cell_type": "code",
   "execution_count": 3,
   "id": "90706d6e",
   "metadata": {
    "scrolled": true
   },
   "outputs": [],
   "source": [
    "from utils import gen_wrapped_env, show_video"
   ]
  },
  {
   "cell_type": "code",
   "execution_count": 4,
   "id": "d048dbff",
   "metadata": {
    "scrolled": true
   },
   "outputs": [],
   "source": [
    "env = gen_wrapped_env('MiniGrid-Empty-6x6-v0')\n",
    "\n",
    "obs = env.reset()\n",
    "\n",
    "agent_position = obs[0]\n",
    "\n",
    "agent = QLearning(3, agent_position)"
   ]
  },
  {
   "cell_type": "markdown",
   "id": "e79aa8d2-fca8-4b2e-8127-d4c0469c52d1",
   "metadata": {},
   "source": [
    "## For Q-Learning\n",
    "+ Q-learning update"
   ]
  },
  {
   "cell_type": "code",
   "execution_count": 5,
   "id": "f7e8c55c",
   "metadata": {
    "scrolled": true
   },
   "outputs": [
    {
     "name": "stdout",
     "output_type": "stream",
     "text": [
      "episode: 100, rewards: 0\n",
      "episode: 200, rewards: 0\n",
      "episode: 300, rewards: 0\n",
      "episode: 400, rewards: 0\n",
      "episode: 500, rewards: 0\n",
      "episode: 600, rewards: 0\n",
      "episode: 700, rewards: 0\n",
      "episode: 800, rewards: 0\n",
      "episode: 900, rewards: 0\n",
      "episode: 1000, rewards: 0\n",
      "episode: 1100, rewards: 0\n",
      "episode: 1200, rewards: 0\n",
      "episode: 1300, rewards: 0\n",
      "episode: 1400, rewards: 0\n",
      "episode: 1500, rewards: 0\n",
      "episode: 1600, rewards: 0\n",
      "episode: 1700, rewards: 0\n",
      "episode: 1800, rewards: 0\n",
      "episode: 1900, rewards: 0\n",
      "episode: 2000, rewards: 0\n",
      "episode: 2100, rewards: 0.532\n",
      "episode: 2200, rewards: 0.37\n",
      "episode: 2300, rewards: 0.22599999999999998\n",
      "episode: 2400, rewards: 0.33399999999999996\n",
      "episode: 2500, rewards: 0.838\n",
      "episode: 2600, rewards: 0\n",
      "episode: 2700, rewards: 0.802\n",
      "episode: 2800, rewards: 0.6579999999999999\n",
      "episode: 2900, rewards: 0\n",
      "episode: 3000, rewards: 0\n",
      "episode: 3100, rewards: 0.712\n",
      "episode: 3200, rewards: 0.244\n",
      "episode: 3300, rewards: 0\n",
      "episode: 3400, rewards: 0.532\n",
      "episode: 3500, rewards: 0\n",
      "episode: 3600, rewards: 0.748\n",
      "episode: 3700, rewards: 0.45999999999999996\n",
      "episode: 3800, rewards: 0.33399999999999996\n",
      "episode: 3900, rewards: 0\n",
      "episode: 4000, rewards: 0.55\n",
      "episode: 4100, rewards: 0\n",
      "episode: 4200, rewards: 0.856\n",
      "episode: 4300, rewards: 0.586\n",
      "episode: 4400, rewards: 0\n",
      "episode: 4500, rewards: 0\n",
      "episode: 4600, rewards: 0.478\n",
      "episode: 4700, rewards: 0.6579999999999999\n",
      "episode: 4800, rewards: 0\n",
      "episode: 4900, rewards: 0.748\n",
      "episode: 5000, rewards: 0\n",
      "episode: 5100, rewards: 0\n",
      "episode: 5200, rewards: 0\n",
      "episode: 5300, rewards: 0\n",
      "episode: 5400, rewards: 0.712\n",
      "episode: 5500, rewards: 0\n",
      "episode: 5600, rewards: 0.514\n",
      "episode: 5700, rewards: 0.856\n",
      "episode: 5800, rewards: 0.73\n",
      "episode: 5900, rewards: 0.136\n",
      "episode: 6000, rewards: 0\n",
      "episode: 6100, rewards: 0\n",
      "episode: 6200, rewards: 0\n",
      "episode: 6300, rewards: 0.22599999999999998\n",
      "episode: 6400, rewards: 0.18999999999999995\n",
      "episode: 6500, rewards: 0\n",
      "episode: 6600, rewards: 0.622\n",
      "episode: 6700, rewards: 0.748\n",
      "episode: 6800, rewards: 0.766\n",
      "episode: 6900, rewards: 0.136\n",
      "episode: 7000, rewards: 0\n",
      "episode: 7100, rewards: 0.136\n",
      "episode: 7200, rewards: 0.352\n",
      "episode: 7300, rewards: 0\n",
      "episode: 7400, rewards: 0\n",
      "episode: 7500, rewards: 0.478\n",
      "episode: 7600, rewards: 0.856\n",
      "episode: 7700, rewards: 0\n",
      "episode: 7800, rewards: 0.874\n",
      "episode: 7900, rewards: 0.766\n",
      "episode: 8000, rewards: 0\n",
      "episode: 8100, rewards: 0\n",
      "episode: 8200, rewards: 0\n",
      "episode: 8300, rewards: 0.82\n",
      "episode: 8400, rewards: 0.6579999999999999\n",
      "episode: 8500, rewards: 0.82\n",
      "episode: 8600, rewards: 0.6759999999999999\n",
      "episode: 8700, rewards: 0\n",
      "episode: 8800, rewards: 0\n",
      "episode: 8900, rewards: 0.838\n",
      "episode: 9000, rewards: 0.73\n",
      "episode: 9100, rewards: 0\n",
      "episode: 9200, rewards: 0.532\n",
      "episode: 9300, rewards: 0.82\n",
      "episode: 9400, rewards: 0\n",
      "episode: 9500, rewards: 0\n",
      "episode: 9600, rewards: 0\n",
      "episode: 9700, rewards: 0.6399999999999999\n",
      "episode: 9800, rewards: 0.82\n",
      "episode: 9900, rewards: 0.17199999999999993\n",
      "episode: 10000, rewards: 0.3879999999999999\n",
      "episode: 10100, rewards: 0\n",
      "episode: 10200, rewards: 0.352\n",
      "episode: 10300, rewards: 0\n",
      "episode: 10400, rewards: 0\n",
      "episode: 10500, rewards: 0\n",
      "episode: 10600, rewards: 0\n",
      "episode: 10700, rewards: 0.20799999999999996\n",
      "episode: 10800, rewards: 0.6759999999999999\n",
      "episode: 10900, rewards: 0\n",
      "episode: 11000, rewards: 0\n",
      "episode: 11100, rewards: 0\n",
      "episode: 11200, rewards: 0.694\n",
      "episode: 11300, rewards: 0.784\n",
      "episode: 11400, rewards: 0\n",
      "episode: 11500, rewards: 0.748\n",
      "episode: 11600, rewards: 0.838\n",
      "episode: 11700, rewards: 0\n",
      "episode: 11800, rewards: 0\n",
      "episode: 11900, rewards: 0\n",
      "episode: 12000, rewards: 0\n",
      "episode: 12100, rewards: 0.73\n",
      "episode: 12200, rewards: 0\n",
      "episode: 12300, rewards: 0\n",
      "episode: 12400, rewards: 0.6579999999999999\n",
      "episode: 12500, rewards: 0.82\n",
      "episode: 12600, rewards: 0\n",
      "episode: 12700, rewards: 0\n",
      "episode: 12800, rewards: 0\n",
      "episode: 12900, rewards: 0.586\n",
      "episode: 13000, rewards: 0.766\n",
      "episode: 13100, rewards: 0\n",
      "episode: 13200, rewards: 0.874\n",
      "episode: 13300, rewards: 0\n",
      "episode: 13400, rewards: 0\n",
      "episode: 13500, rewards: 0.262\n",
      "episode: 13600, rewards: 0\n",
      "episode: 13700, rewards: 0\n",
      "episode: 13800, rewards: 0.55\n",
      "episode: 13900, rewards: 0\n",
      "episode: 14000, rewards: 0.45999999999999996\n",
      "episode: 14100, rewards: 0\n",
      "episode: 14200, rewards: 0\n",
      "episode: 14300, rewards: 0\n",
      "episode: 14400, rewards: 0\n",
      "episode: 14500, rewards: 0.244\n",
      "episode: 14600, rewards: 0\n",
      "episode: 14700, rewards: 0\n",
      "episode: 14800, rewards: 0\n",
      "episode: 14900, rewards: 0\n",
      "episode: 15000, rewards: 0.6399999999999999\n",
      "episode: 15100, rewards: 0.874\n",
      "episode: 15200, rewards: 0.3879999999999999\n",
      "episode: 15300, rewards: 0\n",
      "episode: 15400, rewards: 0.45999999999999996\n",
      "episode: 15500, rewards: 0.3879999999999999\n",
      "episode: 15600, rewards: 0\n",
      "episode: 15700, rewards: 0\n",
      "episode: 15800, rewards: 0.136\n",
      "episode: 15900, rewards: 0.17199999999999993\n",
      "episode: 16000, rewards: 0\n",
      "episode: 16100, rewards: 0\n",
      "episode: 16200, rewards: 0\n",
      "episode: 16300, rewards: 0\n",
      "episode: 16400, rewards: 0\n",
      "episode: 16500, rewards: 0\n",
      "episode: 16600, rewards: 0.766\n",
      "episode: 16700, rewards: 0\n",
      "episode: 16800, rewards: 0.802\n",
      "episode: 16900, rewards: 0\n",
      "episode: 17000, rewards: 0.2799999999999999\n",
      "episode: 17100, rewards: 0\n",
      "episode: 17200, rewards: 0.5680000000000001\n",
      "episode: 17300, rewards: 0\n",
      "episode: 17400, rewards: 0.73\n",
      "episode: 17500, rewards: 0\n",
      "episode: 17600, rewards: 0\n",
      "episode: 17700, rewards: 0\n",
      "episode: 17800, rewards: 0\n",
      "episode: 17900, rewards: 0.6759999999999999\n",
      "episode: 18000, rewards: 0\n",
      "episode: 18100, rewards: 0\n",
      "episode: 18200, rewards: 0.244\n",
      "episode: 18300, rewards: 0.244\n",
      "episode: 18400, rewards: 0.6759999999999999\n",
      "episode: 18500, rewards: 0.694\n",
      "episode: 18600, rewards: 0.6759999999999999\n",
      "episode: 18700, rewards: 0.874\n",
      "episode: 18800, rewards: 0.4059999999999999\n",
      "episode: 18900, rewards: 0.55\n",
      "episode: 19000, rewards: 0.694\n",
      "episode: 19100, rewards: 0.82\n",
      "episode: 19200, rewards: 0\n",
      "episode: 19300, rewards: 0.586\n",
      "episode: 19400, rewards: 0\n",
      "episode: 19500, rewards: 0.20799999999999996\n",
      "episode: 19600, rewards: 0\n",
      "episode: 19700, rewards: 0.694\n",
      "episode: 19800, rewards: 0\n",
      "episode: 19900, rewards: 0\n",
      "episode: 20000, rewards: 0.17199999999999993\n"
     ]
    }
   ],
   "source": [
    "rewards = []\n",
    "for ep in range(20000):\n",
    "    done = False\n",
    "    obs = env.reset()\n",
    "    action = agent.act(obs)\n",
    "    \n",
    "    ep_rewards = 0\n",
    "    while not done:\n",
    "        next_obs, reward, done, info = env.step(action)\n",
    "\n",
    "        next_action = agent.act(next_obs)\n",
    "\n",
    "        agent.update(obs, action, reward, next_obs, next_action)\n",
    "        \n",
    "        ep_rewards += reward\n",
    "        obs = next_obs\n",
    "        action = next_action\n",
    "    rewards.append(ep_rewards)\n",
    "    if (ep+1) % 100 == 0:\n",
    "        print(\"episode: {}, rewards: {}\".format(ep+1, ep_rewards))\n",
    "env.close()"
   ]
  },
  {
   "cell_type": "code",
   "execution_count": 6,
   "id": "a086e2cd",
   "metadata": {},
   "outputs": [
    {
     "data": {
      "text/plain": [
       "{0: [0.03447, 0.03451, 0.03786],\n",
       " 3: [0.03251, 0.03271, 0.03475],\n",
       " 15: [0.07905, 0.08026, 0.10268],\n",
       " 12: [0.06, 0.06024, 0.06588],\n",
       " 6: [0.03618, 0.03629, 0.03949],\n",
       " 18: [0.10198, 0.10535, 0.13418],\n",
       " 30: [0.21575, 0.20646, 0.27543],\n",
       " 21: [0.15249, 0.15372, 0.18345],\n",
       " 24: [0.08015, 0.08041, 0.09318],\n",
       " 27: [0.16645, 0.17083, 0.2148],\n",
       " 39: [0.35771, 0.35745, 0.39551],\n",
       " 36: [0.09868, 0.10111, 0.12732],\n",
       " 42: [0.46586, 0.46597, 0.52703],\n",
       " 9: [0.04243, 0.04221, 0.04586],\n",
       " 33: [0.29472, 0.29603, 0.30868],\n",
       " 45: [0.0, 0.0, 0.0]}"
      ]
     },
     "execution_count": 6,
     "metadata": {},
     "output_type": "execute_result"
    }
   ],
   "source": [
    "{s:np.round(q, 5).tolist() for s, q in agent.q_values.items()}"
   ]
  },
  {
   "cell_type": "code",
   "execution_count": 7,
   "id": "77e3015b",
   "metadata": {},
   "outputs": [
    {
     "data": {
      "text/html": [
       "<video alt=\"test\" autoplay \n",
       "                loop controls style=\"height: 400px;\">\n",
       "                <source src=\"data:video/mp4;base64,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\" type=\"video/mp4\" />\n",
       "             </video>"
      ],
      "text/plain": [
       "<IPython.core.display.HTML object>"
      ]
     },
     "metadata": {},
     "output_type": "display_data"
    }
   ],
   "source": [
    "show_video()"
   ]
  },
  {
   "cell_type": "code",
   "execution_count": 8,
   "id": "42787cff",
   "metadata": {},
   "outputs": [],
   "source": [
    "os.makedirs('./logs', exist_ok=True)\n",
    "pd.Series(rewards).to_csv('./logs/rewards_qlearning_empty.csv')"
   ]
  },
  {
   "cell_type": "code",
   "execution_count": 11,
   "id": "da141489",
   "metadata": {},
   "outputs": [],
   "source": [
    "sarsa_logs = pd.read_csv('./logs/rewards_sarsa_empty.csv', index_col=False).iloc[:, 1]\n",
    "q_logs = pd.read_csv('./logs/rewards_qlearning_empty.csv', index_col=False).iloc[:, 1]"
   ]
  },
  {
   "cell_type": "code",
   "execution_count": 12,
   "id": "43dc92ab",
   "metadata": {},
   "outputs": [
    {
     "data": {
      "text/plain": [
       "<matplotlib.legend.Legend at 0x22badb2ca00>"
      ]
     },
     "execution_count": 12,
     "metadata": {},
     "output_type": "execute_result"
    },
    {
     "data": {
      "image/png": "[encoded data removed]",
      "text/plain": [
       "<Figure size 1600x800 with 1 Axes>"
      ]
     },
     "metadata": {},
     "output_type": "display_data"
    }
   ],
   "source": [
    "plt.figure(figsize=(16, 8))\n",
    "plt.plot(q_logs.cumsum() / (pd.Series(np.arange(q_logs.shape[0]))+1), label=\"QLearning\")\n",
    "plt.plot(sarsa_logs.cumsum() / (pd.Series(np.arange(sarsa_logs.shape[0]))+1), label=\"SARSA\")\n",
    "plt.legend()"
   ]
  },
  {
   "cell_type": "code",
   "execution_count": null,
   "id": "69d2dad1",
   "metadata": {},
   "outputs": [],
   "source": []
  },
  {
   "cell_type": "code",
   "execution_count": null,
   "id": "a1ab15f2",
   "metadata": {},
   "outputs": [],
   "source": []
  }
 ],
 "metadata": {
  "kernelspec": {
   "display_name": "Python 3",
   "language": "python",
   "name": "python3"
  },
  "language_info": {
   "codemirror_mode": {
    "name": "ipython",
    "version": 3
   },
   "file_extension": ".py",
   "mimetype": "text/x-python",
   "name": "python",
   "nbconvert_exporter": "python",
   "pygments_lexer": "ipython3",
   "version": "3.8.20"
  }
 },
 "nbformat": 4,
 "nbformat_minor": 5
}
